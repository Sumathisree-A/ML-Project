{
 "cells": [
  {
   "cell_type": "code",
   "execution_count": 5,
   "id": "37bcefd8-731a-4ebc-b031-990c92e2a80d",
   "metadata": {},
   "outputs": [
    {
     "data": {
      "text/plain": [
       "1.0"
      ]
     },
     "execution_count": 5,
     "metadata": {},
     "output_type": "execute_result"
    }
   ],
   "source": [
    "import pandas as pd\n",
    "from sklearn.tree import DecisionTreeClassifier\n",
    "from sklearn.model_selection import train_test_split\n",
    "from sklearn.metrics import accuracy_score\n",
    "\n",
    "music_data = pd.read_csv('music.csv')\n",
    "x = music_data.drop(columns=['genre'])\n",
    "y = music_data['genre']\n",
    "x_train, x_test, y_train, y_test = train_test_split(x, y, test_size=0.2)  #need to train with more data , then we got accurate score here 80% train , 20% test\n",
    "\n",
    "model = DecisionTreeClassifier()\n",
    "model.fit(x_train, y_train)\n",
    "predictions = model.predict(x_test)\n",
    "score = accuracy_score(y_test, predictions)\n",
    "score"
   ]
  },
  {
   "cell_type": "code",
   "execution_count": 3,
   "id": "28bde864-e14a-42aa-ab4a-265a420d3ef9",
   "metadata": {},
   "outputs": [
    {
     "ename": "FileNotFoundError",
     "evalue": "[Errno 2] No such file or directory: 'music-recommender.joblib'",
     "output_type": "error",
     "traceback": [
      "\u001b[1;31m---------------------------------------------------------------------------\u001b[0m",
      "\u001b[1;31mFileNotFoundError\u001b[0m                         Traceback (most recent call last)",
      "Cell \u001b[1;32mIn[3], line 12\u001b[0m\n\u001b[0;32m      3\u001b[0m \u001b[38;5;28;01mimport\u001b[39;00m \u001b[38;5;21;01mjoblib\u001b[39;00m\n\u001b[0;32m      5\u001b[0m \u001b[38;5;66;03m#music_data = pd.read_csv('music.csv')\u001b[39;00m\n\u001b[0;32m      6\u001b[0m \u001b[38;5;66;03m#x = music_data.drop(columns=['genre'])\u001b[39;00m\n\u001b[0;32m      7\u001b[0m \u001b[38;5;66;03m#y = music_data['genre']\u001b[39;00m\n\u001b[0;32m      8\u001b[0m \n\u001b[0;32m      9\u001b[0m \u001b[38;5;66;03m#model = DecisionTreeClassifier()\u001b[39;00m\n\u001b[0;32m     10\u001b[0m \u001b[38;5;66;03m#model.fit(x,y)\u001b[39;00m\n\u001b[1;32m---> 12\u001b[0m model \u001b[38;5;241m=\u001b[39m joblib\u001b[38;5;241m.\u001b[39mload(\u001b[38;5;124m'\u001b[39m\u001b[38;5;124mmusic-recommender.joblib\u001b[39m\u001b[38;5;124m'\u001b[39m)\n\u001b[0;32m     13\u001b[0m \u001b[38;5;66;03m#joblib.dump(model, 'music-recommender.joblib')\u001b[39;00m\n\u001b[0;32m     14\u001b[0m predictions \u001b[38;5;241m=\u001b[39m model\u001b[38;5;241m.\u001b[39mpredict([ [\u001b[38;5;241m21\u001b[39m, \u001b[38;5;241m1\u001b[39m] ])\n",
      "File \u001b[1;32m~\\anaconda3\\Lib\\site-packages\\joblib\\numpy_pickle.py:650\u001b[0m, in \u001b[0;36mload\u001b[1;34m(filename, mmap_mode)\u001b[0m\n\u001b[0;32m    648\u001b[0m         obj \u001b[38;5;241m=\u001b[39m _unpickle(fobj)\n\u001b[0;32m    649\u001b[0m \u001b[38;5;28;01melse\u001b[39;00m:\n\u001b[1;32m--> 650\u001b[0m     \u001b[38;5;28;01mwith\u001b[39;00m \u001b[38;5;28mopen\u001b[39m(filename, \u001b[38;5;124m'\u001b[39m\u001b[38;5;124mrb\u001b[39m\u001b[38;5;124m'\u001b[39m) \u001b[38;5;28;01mas\u001b[39;00m f:\n\u001b[0;32m    651\u001b[0m         \u001b[38;5;28;01mwith\u001b[39;00m _read_fileobject(f, filename, mmap_mode) \u001b[38;5;28;01mas\u001b[39;00m fobj:\n\u001b[0;32m    652\u001b[0m             \u001b[38;5;28;01mif\u001b[39;00m \u001b[38;5;28misinstance\u001b[39m(fobj, \u001b[38;5;28mstr\u001b[39m):\n\u001b[0;32m    653\u001b[0m                 \u001b[38;5;66;03m# if the returned file object is a string, this means we\u001b[39;00m\n\u001b[0;32m    654\u001b[0m                 \u001b[38;5;66;03m# try to load a pickle file generated with an version of\u001b[39;00m\n\u001b[0;32m    655\u001b[0m                 \u001b[38;5;66;03m# Joblib so we load it with joblib compatibility function.\u001b[39;00m\n",
      "\u001b[1;31mFileNotFoundError\u001b[0m: [Errno 2] No such file or directory: 'music-recommender.joblib'"
     ]
    }
   ],
   "source": [
    "import pandas as pd\n",
    "from sklearn.tree import DecisionTreeClassifier\n",
    "import joblib\n",
    "\n",
    "#music_data = pd.read_csv('music.csv')\n",
    "#x = music_data.drop(columns=['genre'])\n",
    "#y = music_data['genre']\n",
    "\n",
    "#model = DecisionTreeClassifier()\n",
    "#model.fit(x,y)\n",
    "\n",
    "model = joblib.load('music-recommender.joblib')\n",
    "#joblib.dump(model, 'music-recommender.joblib')\n",
    "predictions = model.predict([ [21, 1] ])\n",
    "predictions"
   ]
  },
  {
   "cell_type": "code",
   "execution_count": null,
   "id": "90f6d42e-8102-4840-9fec-4f827edc9506",
   "metadata": {},
   "outputs": [],
   "source": [
    "# prediction code \n",
    "import pandas as pd\n",
    "from sklearn.tree import DecisionTreeClassifier\n",
    "\n",
    "music_data = pd.read_csv('music.csv')\n",
    "x = music_data.drop(columns=['genre'])\n",
    "y = music_data['genre']\n",
    "\n",
    "model = DecisionTreeClassifier()\n",
    "model.fit(x,y)  # to train\n",
    "predictions = model.predict([ [21,1], [22,0] ]) #sample to predict\n",
    "predictions"
   ]
  },
  {
   "cell_type": "code",
   "execution_count": null,
   "id": "d26b848c-919f-4aa9-a1ed-ee78c770ee8d",
   "metadata": {},
   "outputs": [],
   "source": [
    "#train and test the model\n",
    "\n",
    "import pandas as pd\n",
    "from sklearn.tree import DecisionTreeClassifier\n",
    "from sklearn.model_selection import train_test_split\n",
    "from sklearn.metrics import accuracy_score\n",
    "\n",
    "music_data = pd.read_csv('music.csv')\n",
    "x = music_data.drop(columns=['genre'])\n",
    "y = music_data['genre']\n",
    "x_train, x_test, y_train, y_test = train_test_split(x, y, test_size=0.2) # give a tuple with 4 values\n",
    "# give more data to input to get more accurate values \n",
    "\n",
    "model = DecisionTreeClassifier()\n",
    "model.fit(x_train,y_train)\n",
    "predictions = model.predict(x_test)  # passing input value for testing\n",
    "score = accuracy_score(y_test, predictions)\n",
    "score"
   ]
  },
  {
   "cell_type": "code",
   "execution_count": null,
   "id": "097870cd-2088-4d1e-84bd-b85cdb278fad",
   "metadata": {},
   "outputs": [],
   "source": [
    "#persisting model and dumped the model\n",
    "import pandas as pd\n",
    "from sklearn.tree import DecisionTreeClassifier\n",
    "import joblib \n",
    "\n",
    "# joblib has methods for saving and loading model\n",
    "\n",
    "music_data = pd.read_csv('music.csv')\n",
    "x = music_data.drop(columns=['genre'])\n",
    "y = music_data['genre']\n",
    "\n",
    "model = DecisionTreeClassifier()\n",
    "model.fit(x,y)  # to train\n",
    "\n",
    "joblib.dump(model, 'music-recommender.joblib')   # model file - binary file\n",
    "\n",
    "#predictions = model.predict([ [21,1], [22,0] ]) #sample to predict\n",
    "#predictions"
   ]
  },
  {
   "cell_type": "code",
   "execution_count": null,
   "id": "d3b5c5cf-a72e-4429-9230-088cec491be3",
   "metadata": {},
   "outputs": [],
   "source": [
    "#to load the model\n",
    "import pandas as pd\n",
    "from sklearn.tree import DecisionTreeClassifier\n",
    "import joblib \n",
    "\n",
    "# joblib has methods for saving and loading model\n",
    "\n",
    "#music_data = pd.read_csv('music.csv')\n",
    "#x = music_data.drop(columns=['genre'])\n",
    "#y = music_data['genre']\n",
    "\n",
    "#model = DecisionTreeClassifier()\n",
    "#model.fit(x,y)  # to train\n",
    "\n",
    "#joblib.dump(model, 'music-recommener.joblib')   # model file - binary file\n",
    "\n",
    "model = joblib.load('music-recommender.joblib')\n",
    "predictions = model.predict([ [21,1], [22,0] ]) #sample to predict\n",
    "predictions"
   ]
  }
 ],
 "metadata": {
  "kernelspec": {
   "display_name": "Python 3 (ipykernel)",
   "language": "python",
   "name": "python3"
  },
  "language_info": {
   "codemirror_mode": {
    "name": "ipython",
    "version": 3
   },
   "file_extension": ".py",
   "mimetype": "text/x-python",
   "name": "python",
   "nbconvert_exporter": "python",
   "pygments_lexer": "ipython3",
   "version": "3.12.4"
  }
 },
 "nbformat": 4,
 "nbformat_minor": 5
}
